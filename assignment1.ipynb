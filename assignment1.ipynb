{
 "cells": [
  {
   "cell_type": "markdown",
   "id": "3b595f92-0100-4692-ad78-e1f3a5fce284",
   "metadata": {},
   "source": [
    "## Q1. Create one variable containing following type of data:\n",
    "1. string\n",
    "2. list\n",
    "3. float\n",
    "4. tuple"
   ]
  },
  {
   "cell_type": "code",
   "execution_count": 1,
   "id": "8dd04bda-eb49-439e-8054-d8126f9c6fe5",
   "metadata": {},
   "outputs": [],
   "source": [
    "# 1. String\n",
    "my_string = \"Hello, World!\"\n",
    "\n",
    "# 2. List\n",
    "my_list = [1, 2, 3, 4, 5]\n",
    "\n",
    "# 3. Float\n",
    "my_float = 3.14159\n",
    "\n",
    "# 4. Tuple\n",
    "my_tuple = (10, 20, 30, 40, 50)\n"
   ]
  },
  {
   "cell_type": "markdown",
   "id": "e9c60e32-7155-4b72-a3e8-512d25dcb19a",
   "metadata": {},
   "source": [
    "## Q2. Given are some following variables containing data:\n",
    "1. var1 = ‘ ‘\n",
    "2. var2 = ‘[ DS , ML , Python]’\n",
    "3. var3 = [ ‘DS’ , ’ML’ , ‘Python’ ]\n",
    "4. var4 = 1."
   ]
  },
  {
   "cell_type": "markdown",
   "id": "5ed17c15-cfa1-4df4-a05e-9520d46b48ae",
   "metadata": {},
   "source": [
    "It seems like you've provided four variables, each containing different types of data. Let's take a closer look at each one:\n",
    "\n",
    "(i) `var1` is a string variable containing a single space character.\n",
    "\n",
    "(ii) `var2` is also a string, but it contains a string representation of a list with elements `'DS'`, `'ML'`, and `'Python'`. Note that the elements are enclosed in single quotes, which makes them string literals.\n",
    "\n",
    "(iii) `var3` is a list variable containing three string elements: `'DS'`, `'ML'`, and `'Python'`. In this case, the elements are actual strings within the list.\n",
    "\n",
    "(iv) `var4` is a float variable containing the value `1.0`.\n",
    "\n",
    "Here's a summary of the data types for each variable:\n",
    "\n",
    "- `var1` is a string.\n",
    "- `var2` is a string that looks like a list (but it's still a string).\n",
    "- `var3` is a list of strings.\n",
    "- `var4` is a float.\n",
    "\n",
    "Please note that `var2` is a string representation of a list, and if you want to work with it as a list, you would need to convert it to an actual list using Python's `eval()` function or by manually parsing and splitting the string."
   ]
  },
  {
   "cell_type": "markdown",
   "id": "74701e59-21b5-411d-8922-7612526dd015",
   "metadata": {},
   "source": [
    "## Q3. Explain the use of the following operators using an example:\n",
    "(i) /\n",
    "\n",
    "(ii) %\n",
    "\n",
    "(iii) //\n",
    "\n",
    "(iv) **"
   ]
  },
  {
   "cell_type": "markdown",
   "id": "0c478ef7-3a18-41b0-a816-c5f6645dbcd4",
   "metadata": {},
   "source": [
    "Sure, let me explain the use of these operators in Python with examples:\n",
    "\n",
    "(i) `/` (Division Operator):\n",
    "   - The `/` operator is used for division in Python.\n",
    "   - It performs floating-point division, which means it returns a floating-point result, even if the operands are integers.\n",
    "   - Example:\n",
    "\n",
    "     ```python\n",
    "     result = 10 / 3\n",
    "     print(result)  # Output: 3.3333333333333335\n",
    "     ```\n",
    "\n",
    "(ii) `%` (Modulus Operator):\n",
    "   - The `%` operator calculates the remainder when one number is divided by another.\n",
    "   - It is often used to check for divisibility or to find the remainder of a division operation.\n",
    "   - Example:\n",
    "\n",
    "     ```python\n",
    "     remainder = 10 % 3\n",
    "     print(remainder)  # Output: 1 (because 10 divided by 3 is 3 with a remainder of 1)\n",
    "     ```\n",
    "\n",
    "(iii) `//` (Floor Division Operator):\n",
    "   - The `//` operator is used for floor division, which returns the largest integer less than or equal to the result of the division.\n",
    "   - It discards the fractional part and returns an integer result.\n",
    "   - Example:\n",
    "\n",
    "     ```python\n",
    "     result = 10 // 3\n",
    "     print(result)  # Output: 3 (because 10 divided by 3 is 3.333, but // returns 3)\n",
    "     ```\n",
    "\n",
    "(iv) `**` (Exponentiation Operator):\n",
    "   - The `**` operator is used for exponentiation, which means raising one number to the power of another.\n",
    "   - It can be used to calculate exponentials.\n",
    "   - Example:\n",
    "\n",
    "     ```python\n",
    "     result = 2 ** 3\n",
    "     print(result)  # Output: 8 (because 2 raised to the power of 3 is 8)\n",
    "     ```\n",
    "\n",
    "These operators are fundamental in mathematical operations and are frequently used in various calculations and expressions within Python programs."
   ]
  },
  {
   "cell_type": "markdown",
   "id": "854bd88b-a91d-4e99-8afe-9d733ac29fc4",
   "metadata": {},
   "source": [
    "## Q4. Create a list of length 10 of your choice containing multiple types of data. Using for loop print the melement and its data type."
   ]
  },
  {
   "cell_type": "markdown",
   "id": "8d399af2-5e96-46b0-9e9c-9da06ff485b6",
   "metadata": {},
   "source": [
    "Certainly! Here's an example of creating a list with 10 elements of different data types and then using a for loop to print each element along with its data type:\n",
    "\n",
    "```python\n",
    "my_list = [42, \"Hello\", 3.14, True, [1, 2, 3], {\"name\": \"John\", \"age\": 30}, None, (1, 2), 'A', False]\n",
    "\n",
    "for item in my_list:\n",
    "    print(f\"Element: {item}, Data Type: {type(item)}\")\n",
    "```\n",
    "\n",
    "In this example, `my_list` contains a mix of data types, including integers, strings, floats, booleans, a nested list, a dictionary, `None`, a tuple, and characters. The for loop iterates through each element and uses the `type()` function to print the data type of each element."
   ]
  },
  {
   "cell_type": "markdown",
   "id": "e4fd05a9-40e3-405b-9ea7-588cd338e836",
   "metadata": {},
   "source": [
    "## Q5. Using a while loop, verify if the number A is purely divisible by number B and if so then how many times it can be divisible."
   ]
  },
  {
   "cell_type": "code",
   "execution_count": 1,
   "id": "bd5e28e0-0df3-46bf-8c72-c15399c1f57f",
   "metadata": {},
   "outputs": [
    {
     "name": "stdin",
     "output_type": "stream",
     "text": [
      "Enter the value of A:  2\n",
      "Enter the value of B:  3\n"
     ]
    },
    {
     "name": "stdout",
     "output_type": "stream",
     "text": [
      "A is not purely divisible by B.\n"
     ]
    }
   ],
   "source": [
    "## Input the values of A and B\n",
    "A = int(input(\"Enter the value of A: \"))\n",
    "B = int(input(\"Enter the value of B: \"))\n",
    "\n",
    "# Initialize a count variable to keep track of how many times A is divisible by B\n",
    "count = 0\n",
    "\n",
    "# Use a while loop to perform the division until A is no longer divisible by B\n",
    "while A >= B and A % B == 0:\n",
    "    A = A // B  # Perform integer division\n",
    "    count += 1\n",
    "\n",
    "# Check if A is purely divisible by B\n",
    "if A == 0:\n",
    "    print(f\"{count} times, A is purely divisible by B.\")\n",
    "else:\n",
    "    print(\"A is not purely divisible by B.\")\n",
    "\n",
    "# Print the result\n",
    "if count > 0:\n",
    "    print(f\"A can be divided {count} times by B.\")\n"
   ]
  },
  {
   "cell_type": "markdown",
   "id": "584560f8-4bf5-476b-88c7-72b2674e1ed3",
   "metadata": {},
   "source": [
    "## Q6. Create a list containing 25 int type data. Using for loop and if-else condition print if the element is divisible by 3 or not."
   ]
  },
  {
   "cell_type": "code",
   "execution_count": 2,
   "id": "b51e0ab4-4448-45f2-9053-0e2f09431580",
   "metadata": {},
   "outputs": [
    {
     "name": "stdout",
     "output_type": "stream",
     "text": [
      "7 is not divisible by 3.\n",
      "12 is divisible by 3.\n",
      "18 is divisible by 3.\n",
      "5 is not divisible by 3.\n",
      "27 is divisible by 3.\n",
      "36 is divisible by 3.\n",
      "42 is divisible by 3.\n",
      "9 is divisible by 3.\n",
      "15 is divisible by 3.\n",
      "8 is not divisible by 3.\n",
      "21 is divisible by 3.\n",
      "30 is divisible by 3.\n",
      "55 is not divisible by 3.\n",
      "63 is divisible by 3.\n",
      "10 is not divisible by 3.\n",
      "33 is divisible by 3.\n",
      "48 is divisible by 3.\n",
      "6 is divisible by 3.\n",
      "17 is not divisible by 3.\n",
      "22 is not divisible by 3.\n",
      "39 is divisible by 3.\n",
      "45 is divisible by 3.\n",
      "16 is not divisible by 3.\n",
      "51 is divisible by 3.\n",
      "99 is divisible by 3.\n"
     ]
    }
   ],
   "source": [
    "# Create a list of 25 integer data\n",
    "my_list = [7, 12, 18, 5, 27, 36, 42, 9, 15, 8, 21, 30, 55, 63, 10, 33, 48, 6, 17, 22, 39, 45, 16, 51, 99]\n",
    "\n",
    "# Use a for loop to iterate through the list\n",
    "for num in my_list:\n",
    "    if num % 3 == 0:\n",
    "        print(f\"{num} is divisible by 3.\")\n",
    "    else:\n",
    "        print(f\"{num} is not divisible by 3.\")\n"
   ]
  },
  {
   "cell_type": "markdown",
   "id": "5eda50d3-56d6-4931-839f-489f3577a748",
   "metadata": {},
   "source": [
    "## Q7. What do you understand about mutable and immutable data types? Give examples for both showing this property."
   ]
  },
  {
   "cell_type": "code",
   "execution_count": 3,
   "id": "e3ab04ff-8366-4107-ae10-48b4c0c73e63",
   "metadata": {},
   "outputs": [
    {
     "name": "stdout",
     "output_type": "stream",
     "text": [
      "[1, 2, 3]\n",
      "[1, 2, 3, 4]\n",
      "[0, 2, 3, 4]\n"
     ]
    }
   ],
   "source": [
    "my_list = [1, 2, 3]\n",
    "print(my_list)  # Output: [1, 2, 3]\n",
    "\n",
    "# You can modify the list by adding an element.\n",
    "my_list.append(4)\n",
    "print(my_list)  # Output: [1, 2, 3, 4]\n",
    "\n",
    "# You can also change an element at a specific index.\n",
    "my_list[0] = 0\n",
    "print(my_list)  # Output: [0, 2, 3, 4]\n"
   ]
  },
  {
   "cell_type": "code",
   "execution_count": null,
   "id": "de88b682-0fb3-46b1-98ab-a3558dd8cd1d",
   "metadata": {},
   "outputs": [],
   "source": []
  }
 ],
 "metadata": {
  "kernelspec": {
   "display_name": "Python 3 (ipykernel)",
   "language": "python",
   "name": "python3"
  },
  "language_info": {
   "codemirror_mode": {
    "name": "ipython",
    "version": 3
   },
   "file_extension": ".py",
   "mimetype": "text/x-python",
   "name": "python",
   "nbconvert_exporter": "python",
   "pygments_lexer": "ipython3",
   "version": "3.10.8"
  }
 },
 "nbformat": 4,
 "nbformat_minor": 5
}
